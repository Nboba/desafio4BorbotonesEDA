{
  "cells": [
    {
      "cell_type": "markdown",
      "metadata": {
        "id": "gQdH_vxTkHm1"
      },
      "source": [
        "https://www.kaggle.com/datasets/datasnaek/league-of-legends?resource=download"
      ]
    },
    {
      "cell_type": "code",
      "execution_count": 81,
      "metadata": {
        "id": "pjIlCIPZvsEf"
      },
      "outputs": [],
      "source": [
        "import keras\n",
        "import pandas as pd\n",
        "import numpy as np\n",
        "from matplotlib import pyplot as plt\n",
        "from sklearn.model_selection import train_test_split\n",
        "from IPython.display import clear_output"
      ]
    },
    {
      "cell_type": "code",
      "execution_count": 82,
      "metadata": {
        "id": "m4Lr__z9wETN"
      },
      "outputs": [],
      "source": [
        "df = pd.read_csv('D:\\Cosas\\Desktop\\games.csv')\n",
        "df = df.sample(frac=0.04, random_state=0)"
      ]
    },
    {
      "cell_type": "code",
      "execution_count": 83,
      "metadata": {
        "colab": {
          "base_uri": "https://localhost:8080/",
          "height": 423
        },
        "id": "cX5TIMX10eYW",
        "outputId": "0061aa14-b479-47dc-cc35-755a872d90ed"
      },
      "outputs": [
        {
          "data": {
            "text/html": [
              "<div>\n",
              "<style scoped>\n",
              "    .dataframe tbody tr th:only-of-type {\n",
              "        vertical-align: middle;\n",
              "    }\n",
              "\n",
              "    .dataframe tbody tr th {\n",
              "        vertical-align: top;\n",
              "    }\n",
              "\n",
              "    .dataframe thead th {\n",
              "        text-align: right;\n",
              "    }\n",
              "</style>\n",
              "<table border=\"1\" class=\"dataframe\">\n",
              "  <thead>\n",
              "    <tr style=\"text-align: right;\">\n",
              "      <th></th>\n",
              "      <th>1</th>\n",
              "      <th>2</th>\n",
              "    </tr>\n",
              "  </thead>\n",
              "  <tbody>\n",
              "    <tr>\n",
              "      <th>24911</th>\n",
              "      <td>0</td>\n",
              "      <td>1</td>\n",
              "    </tr>\n",
              "    <tr>\n",
              "      <th>43931</th>\n",
              "      <td>0</td>\n",
              "      <td>1</td>\n",
              "    </tr>\n",
              "    <tr>\n",
              "      <th>9773</th>\n",
              "      <td>0</td>\n",
              "      <td>1</td>\n",
              "    </tr>\n",
              "    <tr>\n",
              "      <th>20749</th>\n",
              "      <td>1</td>\n",
              "      <td>0</td>\n",
              "    </tr>\n",
              "    <tr>\n",
              "      <th>16478</th>\n",
              "      <td>1</td>\n",
              "      <td>0</td>\n",
              "    </tr>\n",
              "    <tr>\n",
              "      <th>...</th>\n",
              "      <td>...</td>\n",
              "      <td>...</td>\n",
              "    </tr>\n",
              "    <tr>\n",
              "      <th>45042</th>\n",
              "      <td>1</td>\n",
              "      <td>0</td>\n",
              "    </tr>\n",
              "    <tr>\n",
              "      <th>33855</th>\n",
              "      <td>0</td>\n",
              "      <td>1</td>\n",
              "    </tr>\n",
              "    <tr>\n",
              "      <th>39500</th>\n",
              "      <td>1</td>\n",
              "      <td>0</td>\n",
              "    </tr>\n",
              "    <tr>\n",
              "      <th>22781</th>\n",
              "      <td>1</td>\n",
              "      <td>0</td>\n",
              "    </tr>\n",
              "    <tr>\n",
              "      <th>3485</th>\n",
              "      <td>1</td>\n",
              "      <td>0</td>\n",
              "    </tr>\n",
              "  </tbody>\n",
              "</table>\n",
              "<p>1442 rows × 2 columns</p>\n",
              "</div>"
            ],
            "text/plain": [
              "       1  2\n",
              "24911  0  1\n",
              "43931  0  1\n",
              "9773   0  1\n",
              "20749  1  0\n",
              "16478  1  0\n",
              "...   .. ..\n",
              "45042  1  0\n",
              "33855  0  1\n",
              "39500  1  0\n",
              "22781  1  0\n",
              "3485   1  0\n",
              "\n",
              "[1442 rows x 2 columns]"
            ]
          },
          "execution_count": 83,
          "metadata": {},
          "output_type": "execute_result"
        }
      ],
      "source": [
        "Y = pd.get_dummies(df['winner'])\n",
        "Z = df[['firstBlood', 'firstTower', 'firstInhibitor', 'firstBaron',\n",
        "       'firstDragon', 'firstRiftHerald', 't1_towerKills', 't1_inhibitorKills', 't1_baronKills',\n",
        "       't1_dragonKills', 't1_riftHeraldKills', 't2_towerKills', 't2_inhibitorKills', 't2_baronKills', 't2_dragonKills',\n",
        "       't2_riftHeraldKills']] \n",
        "\n",
        "Z_train, Z_test, Yz_train, Yz_test = train_test_split(Z,Y, test_size=0.3, random_state=0)\n",
        "Z_train = (Z_train-Z_train.mean())/Z_train.std()\n",
        "Z_test = (Z_test-Z_train.mean())/Z_train.std()\n",
        "Yz_train"
      ]
    },
    {
      "cell_type": "code",
      "execution_count": 84,
      "metadata": {
        "id": "3OovLm6Fyutl"
      },
      "outputs": [],
      "source": [
        "from keras.engine import input_spec\n",
        "from keras.models import Sequential\n",
        "from keras.layers import Dense\n",
        "\n",
        "modelo = Sequential()\n",
        "modelo.add(Dense(16, input_dim=16, activation=\"sigmoid\"))\n",
        "modelo.add(Dense(20, activation=\"sigmoid\"))\n",
        "modelo.add(Dense(30, activation=\"sigmoid\"))\n",
        "modelo.add(Dense(20, activation=\"sigmoid\"))\n",
        "modelo.add(Dense(12, activation=\"sigmoid\"))\n",
        "modelo.add(Dense(2, activation=\"softmax\"))\n",
        "\n",
        "modelo.compile(loss='mse', optimizer='rmsprop')"
      ]
    },
    {
      "cell_type": "code",
      "execution_count": 85,
      "metadata": {
        "colab": {
          "base_uri": "https://localhost:8080/"
        },
        "id": "E-gTyYuizNtW",
        "outputId": "5b3f146e-3444-48bb-ea43-ed7fdf031e58"
      },
      "outputs": [
        {
          "name": "stdout",
          "output_type": "stream",
          "text": [
            "Epoch 1/150\n",
            "14/14 [==============================] - 0s 6ms/step - loss: 0.2509 - val_loss: 0.2449\n",
            "Epoch 2/150\n",
            "14/14 [==============================] - 0s 1ms/step - loss: 0.2497 - val_loss: 0.2462\n",
            "Epoch 3/150\n",
            "14/14 [==============================] - 0s 2ms/step - loss: 0.2496 - val_loss: 0.2460\n",
            "Epoch 4/150\n",
            "14/14 [==============================] - 0s 2ms/step - loss: 0.2488 - val_loss: 0.2470\n",
            "Epoch 5/150\n",
            "14/14 [==============================] - 0s 2ms/step - loss: 0.2480 - val_loss: 0.2413\n",
            "Epoch 6/150\n",
            "14/14 [==============================] - 0s 2ms/step - loss: 0.2466 - val_loss: 0.2413\n",
            "Epoch 7/150\n",
            "14/14 [==============================] - 0s 1ms/step - loss: 0.2450 - val_loss: 0.2431\n",
            "Epoch 8/150\n",
            "14/14 [==============================] - 0s 2ms/step - loss: 0.2421 - val_loss: 0.2417\n",
            "Epoch 9/150\n",
            "14/14 [==============================] - 0s 1ms/step - loss: 0.2381 - val_loss: 0.2331\n",
            "Epoch 10/150\n",
            "14/14 [==============================] - 0s 1ms/step - loss: 0.2319 - val_loss: 0.2275\n",
            "Epoch 11/150\n",
            "14/14 [==============================] - 0s 2ms/step - loss: 0.2229 - val_loss: 0.2126\n",
            "Epoch 12/150\n",
            "14/14 [==============================] - 0s 2ms/step - loss: 0.2104 - val_loss: 0.1977\n",
            "Epoch 13/150\n",
            "14/14 [==============================] - 0s 2ms/step - loss: 0.1943 - val_loss: 0.1838\n",
            "Epoch 14/150\n",
            "14/14 [==============================] - 0s 2ms/step - loss: 0.1754 - val_loss: 0.1610\n",
            "Epoch 15/150\n",
            "14/14 [==============================] - 0s 2ms/step - loss: 0.1563 - val_loss: 0.1415\n",
            "Epoch 16/150\n",
            "14/14 [==============================] - 0s 2ms/step - loss: 0.1360 - val_loss: 0.1263\n",
            "Epoch 17/150\n",
            "14/14 [==============================] - 0s 2ms/step - loss: 0.1173 - val_loss: 0.1055\n",
            "Epoch 18/150\n",
            "14/14 [==============================] - 0s 2ms/step - loss: 0.1011 - val_loss: 0.0883\n",
            "Epoch 19/150\n",
            "14/14 [==============================] - 0s 1ms/step - loss: 0.0882 - val_loss: 0.0765\n",
            "Epoch 20/150\n",
            "14/14 [==============================] - 0s 2ms/step - loss: 0.0790 - val_loss: 0.0681\n",
            "Epoch 21/150\n",
            "14/14 [==============================] - 0s 1ms/step - loss: 0.0721 - val_loss: 0.0629\n",
            "Epoch 22/150\n",
            "14/14 [==============================] - 0s 1ms/step - loss: 0.0669 - val_loss: 0.0583\n",
            "Epoch 23/150\n",
            "14/14 [==============================] - 0s 1ms/step - loss: 0.0632 - val_loss: 0.0542\n",
            "Epoch 24/150\n",
            "14/14 [==============================] - 0s 1ms/step - loss: 0.0606 - val_loss: 0.0507\n",
            "Epoch 25/150\n",
            "14/14 [==============================] - 0s 1ms/step - loss: 0.0583 - val_loss: 0.0464\n",
            "Epoch 26/150\n",
            "14/14 [==============================] - 0s 2ms/step - loss: 0.0563 - val_loss: 0.0413\n",
            "Epoch 27/150\n",
            "14/14 [==============================] - 0s 1ms/step - loss: 0.0546 - val_loss: 0.0387\n",
            "Epoch 28/150\n",
            "14/14 [==============================] - 0s 2ms/step - loss: 0.0532 - val_loss: 0.0395\n",
            "Epoch 29/150\n",
            "14/14 [==============================] - 0s 1ms/step - loss: 0.0518 - val_loss: 0.0395\n",
            "Epoch 30/150\n",
            "14/14 [==============================] - 0s 1ms/step - loss: 0.0504 - val_loss: 0.0383\n",
            "Epoch 31/150\n",
            "14/14 [==============================] - 0s 2ms/step - loss: 0.0491 - val_loss: 0.0345\n",
            "Epoch 32/150\n",
            "14/14 [==============================] - 0s 2ms/step - loss: 0.0477 - val_loss: 0.0301\n",
            "Epoch 33/150\n",
            "14/14 [==============================] - 0s 1ms/step - loss: 0.0463 - val_loss: 0.0277\n",
            "Epoch 34/150\n",
            "14/14 [==============================] - 0s 1ms/step - loss: 0.0452 - val_loss: 0.0280\n",
            "Epoch 35/150\n",
            "14/14 [==============================] - 0s 1ms/step - loss: 0.0440 - val_loss: 0.0263\n",
            "Epoch 36/150\n",
            "14/14 [==============================] - 0s 1ms/step - loss: 0.0428 - val_loss: 0.0267\n",
            "Epoch 37/150\n",
            "14/14 [==============================] - 0s 1ms/step - loss: 0.0417 - val_loss: 0.0334\n",
            "Epoch 38/150\n",
            "14/14 [==============================] - 0s 1ms/step - loss: 0.0410 - val_loss: 0.0270\n",
            "Epoch 39/150\n",
            "14/14 [==============================] - 0s 1ms/step - loss: 0.0403 - val_loss: 0.0276\n",
            "Epoch 40/150\n",
            "14/14 [==============================] - 0s 1ms/step - loss: 0.0394 - val_loss: 0.0245\n",
            "Epoch 41/150\n",
            "14/14 [==============================] - 0s 1ms/step - loss: 0.0388 - val_loss: 0.0265\n",
            "Epoch 42/150\n",
            "14/14 [==============================] - 0s 2ms/step - loss: 0.0384 - val_loss: 0.0240\n",
            "Epoch 43/150\n",
            "14/14 [==============================] - 0s 1ms/step - loss: 0.0382 - val_loss: 0.0243\n",
            "Epoch 44/150\n",
            "14/14 [==============================] - 0s 2ms/step - loss: 0.0377 - val_loss: 0.0262\n",
            "Epoch 45/150\n",
            "14/14 [==============================] - 0s 1ms/step - loss: 0.0371 - val_loss: 0.0258\n",
            "Epoch 46/150\n",
            "14/14 [==============================] - 0s 1ms/step - loss: 0.0370 - val_loss: 0.0246\n",
            "Epoch 47/150\n",
            "14/14 [==============================] - 0s 1ms/step - loss: 0.0373 - val_loss: 0.0243\n",
            "Epoch 48/150\n",
            "14/14 [==============================] - 0s 1ms/step - loss: 0.0367 - val_loss: 0.0211\n",
            "Epoch 49/150\n",
            "14/14 [==============================] - 0s 1ms/step - loss: 0.0364 - val_loss: 0.0238\n",
            "Epoch 50/150\n",
            "14/14 [==============================] - 0s 2ms/step - loss: 0.0363 - val_loss: 0.0250\n",
            "Epoch 51/150\n",
            "14/14 [==============================] - 0s 1ms/step - loss: 0.0362 - val_loss: 0.0225\n",
            "Epoch 52/150\n",
            "14/14 [==============================] - 0s 2ms/step - loss: 0.0361 - val_loss: 0.0236\n",
            "Epoch 53/150\n",
            "14/14 [==============================] - 0s 1ms/step - loss: 0.0358 - val_loss: 0.0246\n",
            "Epoch 54/150\n",
            "14/14 [==============================] - 0s 1ms/step - loss: 0.0358 - val_loss: 0.0235\n",
            "Epoch 55/150\n",
            "14/14 [==============================] - 0s 1ms/step - loss: 0.0357 - val_loss: 0.0237\n",
            "Epoch 56/150\n",
            "14/14 [==============================] - 0s 2ms/step - loss: 0.0354 - val_loss: 0.0244\n",
            "Epoch 57/150\n",
            "14/14 [==============================] - 0s 2ms/step - loss: 0.0353 - val_loss: 0.0252\n",
            "Epoch 58/150\n",
            "14/14 [==============================] - 0s 1ms/step - loss: 0.0352 - val_loss: 0.0263\n",
            "Epoch 59/150\n",
            "14/14 [==============================] - 0s 1ms/step - loss: 0.0350 - val_loss: 0.0234\n",
            "Epoch 60/150\n",
            "14/14 [==============================] - 0s 1ms/step - loss: 0.0348 - val_loss: 0.0276\n",
            "Epoch 61/150\n",
            "14/14 [==============================] - 0s 1ms/step - loss: 0.0352 - val_loss: 0.0248\n",
            "Epoch 62/150\n",
            "14/14 [==============================] - 0s 2ms/step - loss: 0.0347 - val_loss: 0.0243\n",
            "Epoch 63/150\n",
            "14/14 [==============================] - 0s 1ms/step - loss: 0.0350 - val_loss: 0.0216\n",
            "Epoch 64/150\n",
            "14/14 [==============================] - 0s 1ms/step - loss: 0.0348 - val_loss: 0.0241\n",
            "Epoch 65/150\n",
            "14/14 [==============================] - 0s 1ms/step - loss: 0.0348 - val_loss: 0.0259\n",
            "Epoch 66/150\n",
            "14/14 [==============================] - 0s 2ms/step - loss: 0.0349 - val_loss: 0.0235\n",
            "Epoch 67/150\n",
            "14/14 [==============================] - 0s 1ms/step - loss: 0.0344 - val_loss: 0.0235\n",
            "Epoch 68/150\n",
            "14/14 [==============================] - 0s 1ms/step - loss: 0.0341 - val_loss: 0.0302\n",
            "Epoch 69/150\n",
            "14/14 [==============================] - 0s 1ms/step - loss: 0.0340 - val_loss: 0.0329\n",
            "Epoch 70/150\n",
            "14/14 [==============================] - 0s 1ms/step - loss: 0.0338 - val_loss: 0.0220\n",
            "Epoch 71/150\n",
            "14/14 [==============================] - 0s 1ms/step - loss: 0.0341 - val_loss: 0.0245\n",
            "Epoch 72/150\n",
            "14/14 [==============================] - 0s 1ms/step - loss: 0.0338 - val_loss: 0.0262\n",
            "Epoch 73/150\n",
            "14/14 [==============================] - 0s 1ms/step - loss: 0.0337 - val_loss: 0.0215\n",
            "Epoch 74/150\n",
            "14/14 [==============================] - 0s 1ms/step - loss: 0.0334 - val_loss: 0.0233\n",
            "Epoch 75/150\n",
            "14/14 [==============================] - 0s 1ms/step - loss: 0.0335 - val_loss: 0.0276\n",
            "Epoch 76/150\n",
            "14/14 [==============================] - 0s 1ms/step - loss: 0.0336 - val_loss: 0.0244\n",
            "Epoch 77/150\n",
            "14/14 [==============================] - 0s 1ms/step - loss: 0.0335 - val_loss: 0.0284\n",
            "Epoch 78/150\n",
            "14/14 [==============================] - 0s 1ms/step - loss: 0.0336 - val_loss: 0.0268\n",
            "Epoch 79/150\n",
            "14/14 [==============================] - 0s 2ms/step - loss: 0.0336 - val_loss: 0.0265\n",
            "Epoch 80/150\n",
            "14/14 [==============================] - 0s 1ms/step - loss: 0.0334 - val_loss: 0.0237\n",
            "Epoch 81/150\n",
            "14/14 [==============================] - 0s 1ms/step - loss: 0.0332 - val_loss: 0.0311\n",
            "Epoch 82/150\n",
            "14/14 [==============================] - 0s 1ms/step - loss: 0.0331 - val_loss: 0.0288\n",
            "Epoch 83/150\n",
            "14/14 [==============================] - 0s 1ms/step - loss: 0.0332 - val_loss: 0.0271\n",
            "Epoch 84/150\n",
            "14/14 [==============================] - 0s 1ms/step - loss: 0.0328 - val_loss: 0.0258\n",
            "Epoch 85/150\n",
            "14/14 [==============================] - 0s 1ms/step - loss: 0.0330 - val_loss: 0.0297\n",
            "Epoch 86/150\n",
            "14/14 [==============================] - 0s 1ms/step - loss: 0.0331 - val_loss: 0.0257\n",
            "Epoch 87/150\n",
            "14/14 [==============================] - 0s 1ms/step - loss: 0.0325 - val_loss: 0.0266\n",
            "Epoch 88/150\n",
            "14/14 [==============================] - 0s 1ms/step - loss: 0.0325 - val_loss: 0.0235\n",
            "Epoch 89/150\n",
            "14/14 [==============================] - 0s 1ms/step - loss: 0.0324 - val_loss: 0.0230\n",
            "Epoch 90/150\n",
            "14/14 [==============================] - 0s 1ms/step - loss: 0.0325 - val_loss: 0.0287\n",
            "Epoch 91/150\n",
            "14/14 [==============================] - 0s 2ms/step - loss: 0.0319 - val_loss: 0.0252\n",
            "Epoch 92/150\n",
            "14/14 [==============================] - 0s 1ms/step - loss: 0.0320 - val_loss: 0.0261\n",
            "Epoch 93/150\n",
            "14/14 [==============================] - 0s 1ms/step - loss: 0.0324 - val_loss: 0.0253\n",
            "Epoch 94/150\n",
            "14/14 [==============================] - 0s 2ms/step - loss: 0.0318 - val_loss: 0.0307\n",
            "Epoch 95/150\n",
            "14/14 [==============================] - 0s 2ms/step - loss: 0.0320 - val_loss: 0.0239\n",
            "Epoch 96/150\n",
            "14/14 [==============================] - 0s 1ms/step - loss: 0.0316 - val_loss: 0.0330\n",
            "Epoch 97/150\n",
            "14/14 [==============================] - 0s 1ms/step - loss: 0.0321 - val_loss: 0.0258\n",
            "Epoch 98/150\n",
            "14/14 [==============================] - 0s 1ms/step - loss: 0.0314 - val_loss: 0.0304\n",
            "Epoch 99/150\n",
            "14/14 [==============================] - 0s 1ms/step - loss: 0.0314 - val_loss: 0.0250\n",
            "Epoch 100/150\n",
            "14/14 [==============================] - 0s 2ms/step - loss: 0.0312 - val_loss: 0.0326\n",
            "Epoch 101/150\n",
            "14/14 [==============================] - 0s 2ms/step - loss: 0.0307 - val_loss: 0.0215\n",
            "Epoch 102/150\n",
            "14/14 [==============================] - 0s 1ms/step - loss: 0.0305 - val_loss: 0.0344\n",
            "Epoch 103/150\n",
            "14/14 [==============================] - 0s 1ms/step - loss: 0.0306 - val_loss: 0.0237\n",
            "Epoch 104/150\n",
            "14/14 [==============================] - 0s 1ms/step - loss: 0.0309 - val_loss: 0.0242\n",
            "Epoch 105/150\n",
            "14/14 [==============================] - 0s 1ms/step - loss: 0.0311 - val_loss: 0.0261\n",
            "Epoch 106/150\n",
            "14/14 [==============================] - 0s 1ms/step - loss: 0.0304 - val_loss: 0.0277\n",
            "Epoch 107/150\n",
            "14/14 [==============================] - 0s 1ms/step - loss: 0.0306 - val_loss: 0.0330\n",
            "Epoch 108/150\n",
            "14/14 [==============================] - 0s 2ms/step - loss: 0.0309 - val_loss: 0.0334\n",
            "Epoch 109/150\n",
            "14/14 [==============================] - 0s 1ms/step - loss: 0.0301 - val_loss: 0.0252\n",
            "Epoch 110/150\n",
            "14/14 [==============================] - 0s 2ms/step - loss: 0.0303 - val_loss: 0.0272\n",
            "Epoch 111/150\n",
            "14/14 [==============================] - 0s 1ms/step - loss: 0.0301 - val_loss: 0.0298\n",
            "Epoch 112/150\n",
            "14/14 [==============================] - 0s 2ms/step - loss: 0.0297 - val_loss: 0.0299\n",
            "Epoch 113/150\n",
            "14/14 [==============================] - 0s 1ms/step - loss: 0.0293 - val_loss: 0.0264\n",
            "Epoch 114/150\n",
            "14/14 [==============================] - 0s 2ms/step - loss: 0.0298 - val_loss: 0.0247\n",
            "Epoch 115/150\n",
            "14/14 [==============================] - 0s 2ms/step - loss: 0.0294 - val_loss: 0.0298\n",
            "Epoch 116/150\n",
            "14/14 [==============================] - 0s 2ms/step - loss: 0.0293 - val_loss: 0.0265\n",
            "Epoch 117/150\n",
            "14/14 [==============================] - 0s 2ms/step - loss: 0.0291 - val_loss: 0.0361\n",
            "Epoch 118/150\n",
            "14/14 [==============================] - 0s 1ms/step - loss: 0.0293 - val_loss: 0.0372\n",
            "Epoch 119/150\n",
            "14/14 [==============================] - 0s 2ms/step - loss: 0.0296 - val_loss: 0.0286\n",
            "Epoch 120/150\n",
            "14/14 [==============================] - 0s 1ms/step - loss: 0.0294 - val_loss: 0.0289\n",
            "Epoch 121/150\n",
            "14/14 [==============================] - 0s 2ms/step - loss: 0.0285 - val_loss: 0.0388\n",
            "Epoch 122/150\n",
            "14/14 [==============================] - 0s 1ms/step - loss: 0.0293 - val_loss: 0.0314\n",
            "Epoch 123/150\n",
            "14/14 [==============================] - 0s 1ms/step - loss: 0.0286 - val_loss: 0.0274\n",
            "Epoch 124/150\n",
            "14/14 [==============================] - 0s 2ms/step - loss: 0.0291 - val_loss: 0.0269\n",
            "Epoch 125/150\n",
            "14/14 [==============================] - 0s 2ms/step - loss: 0.0286 - val_loss: 0.0333\n",
            "Epoch 126/150\n",
            "14/14 [==============================] - 0s 1ms/step - loss: 0.0286 - val_loss: 0.0260\n",
            "Epoch 127/150\n",
            "14/14 [==============================] - 0s 2ms/step - loss: 0.0286 - val_loss: 0.0279\n",
            "Epoch 128/150\n",
            "14/14 [==============================] - 0s 1ms/step - loss: 0.0286 - val_loss: 0.0270\n",
            "Epoch 129/150\n",
            "14/14 [==============================] - 0s 1ms/step - loss: 0.0286 - val_loss: 0.0299\n",
            "Epoch 130/150\n",
            "14/14 [==============================] - 0s 1ms/step - loss: 0.0286 - val_loss: 0.0247\n",
            "Epoch 131/150\n",
            "14/14 [==============================] - 0s 2ms/step - loss: 0.0286 - val_loss: 0.0252\n",
            "Epoch 132/150\n",
            "14/14 [==============================] - 0s 1ms/step - loss: 0.0285 - val_loss: 0.0272\n",
            "Epoch 133/150\n",
            "14/14 [==============================] - 0s 2ms/step - loss: 0.0284 - val_loss: 0.0303\n",
            "Epoch 134/150\n",
            "14/14 [==============================] - 0s 2ms/step - loss: 0.0285 - val_loss: 0.0286\n",
            "Epoch 135/150\n",
            "14/14 [==============================] - 0s 2ms/step - loss: 0.0282 - val_loss: 0.0273\n",
            "Epoch 136/150\n",
            "14/14 [==============================] - 0s 1ms/step - loss: 0.0281 - val_loss: 0.0261\n",
            "Epoch 137/150\n",
            "14/14 [==============================] - 0s 2ms/step - loss: 0.0282 - val_loss: 0.0277\n",
            "Epoch 138/150\n",
            "14/14 [==============================] - 0s 1ms/step - loss: 0.0282 - val_loss: 0.0272\n",
            "Epoch 139/150\n",
            "14/14 [==============================] - 0s 2ms/step - loss: 0.0279 - val_loss: 0.0238\n",
            "Epoch 140/150\n",
            "14/14 [==============================] - 0s 1ms/step - loss: 0.0283 - val_loss: 0.0267\n",
            "Epoch 141/150\n",
            "14/14 [==============================] - 0s 1ms/step - loss: 0.0281 - val_loss: 0.0298\n",
            "Epoch 142/150\n",
            "14/14 [==============================] - 0s 2ms/step - loss: 0.0280 - val_loss: 0.0304\n",
            "Epoch 143/150\n",
            "14/14 [==============================] - 0s 2ms/step - loss: 0.0277 - val_loss: 0.0285\n",
            "Epoch 144/150\n",
            "14/14 [==============================] - 0s 2ms/step - loss: 0.0277 - val_loss: 0.0348\n",
            "Epoch 145/150\n",
            "14/14 [==============================] - 0s 2ms/step - loss: 0.0281 - val_loss: 0.0285\n",
            "Epoch 146/150\n",
            "14/14 [==============================] - 0s 2ms/step - loss: 0.0281 - val_loss: 0.0299\n",
            "Epoch 147/150\n",
            "14/14 [==============================] - 0s 2ms/step - loss: 0.0277 - val_loss: 0.0280\n",
            "Epoch 148/150\n",
            "14/14 [==============================] - 0s 2ms/step - loss: 0.0277 - val_loss: 0.0267\n",
            "Epoch 149/150\n",
            "14/14 [==============================] - 0s 2ms/step - loss: 0.0282 - val_loss: 0.0303\n",
            "Epoch 150/150\n",
            "14/14 [==============================] - 0s 2ms/step - loss: 0.0277 - val_loss: 0.0268\n"
          ]
        }
      ],
      "source": [
        "history = modelo.fit(Z_train, Yz_train, epochs=150, batch_size=100, validation_split=0.05)"
      ]
    },
    {
      "cell_type": "code",
      "execution_count": 86,
      "metadata": {
        "colab": {
          "base_uri": "https://localhost:8080/",
          "height": 295
        },
        "id": "_xwMdtu9Na30",
        "outputId": "0d9661ed-6246-4426-ff25-bcaaf393850e"
      },
      "outputs": [
        {
          "data": {
            "image/png": "[encoded data removed]",
            "text/plain": [
              "<Figure size 432x288 with 1 Axes>"
            ]
          },
          "metadata": {
            "needs_background": "light"
          },
          "output_type": "display_data"
        }
      ],
      "source": [
        "plt.plot(history.history['loss'])\n",
        "plt.plot(history.history['val_loss'])\n",
        "plt.title('Función de coste')\n",
        "plt.ylabel('loss')\n",
        "plt.xlabel('epoch')\n",
        "plt.legend(['train', 'test'], loc='upper left')\n",
        "plt.show()"
      ]
    },
    {
      "cell_type": "code",
      "execution_count": 87,
      "metadata": {
        "colab": {
          "base_uri": "https://localhost:8080/"
        },
        "id": "ApLecUTG-Zth",
        "outputId": "5a53bcee-822c-4bfc-c341-24cb3089ddcc"
      },
      "outputs": [
        {
          "name": "stdout",
          "output_type": "stream",
          "text": [
            "[[0.9900653  0.0099348 ]\n",
            " [0.00737272 0.9926273 ]\n",
            " [0.99003255 0.00996747]\n",
            " ...\n",
            " [0.9900782  0.00992179]\n",
            " [0.00736229 0.99263775]\n",
            " [0.98993826 0.01006171]]\n",
            "0.9644012944983819\n",
            "              precision    recall  f1-score   support\n",
            "\n",
            "           0       0.96      0.97      0.97       330\n",
            "           1       0.97      0.95      0.96       288\n",
            "\n",
            "   micro avg       0.96      0.96      0.96       618\n",
            "   macro avg       0.96      0.96      0.96       618\n",
            "weighted avg       0.96      0.96      0.96       618\n",
            " samples avg       0.96      0.96      0.96       618\n",
            "\n"
          ]
        }
      ],
      "source": [
        "from sklearn.metrics import accuracy_score, classification_report, multilabel_confusion_matrix, precision_score\n",
        "Yz_pred = modelo.predict(Z_test, batch_size=32)\n",
        "print(Yz_pred)\n",
        "Yz_exp = Yz_test.to_numpy()\n",
        "for i in range(len(Yz_pred)):\n",
        "  Yz_pred[i] = np.array([1 if Yz_pred[i][j] == np.max(Yz_pred[i]) else 0 for j in range(len(Yz_pred[i]))])\n",
        "  \n",
        "\n",
        "print(accuracy_score(Yz_exp, Yz_pred))\n",
        "print(classification_report(Yz_exp, Yz_pred))\n",
        "\n",
        "matriz_confusion = multilabel_confusion_matrix(Yz_exp, Yz_pred)"
      ]
    },
    {
      "cell_type": "code",
      "execution_count": 88,
      "metadata": {
        "colab": {
          "base_uri": "https://localhost:8080/",
          "height": 657
        },
        "id": "bXhr0T4Spg4z",
        "outputId": "c11c6c19-5da5-48ae-9da9-d6e8975d66b8"
      },
      "outputs": [
        {
          "data": {
            "image/png": "[encoded data removed]",
            "text/plain": [
              "<Figure size 432x288 with 2 Axes>"
            ]
          },
          "metadata": {
            "needs_background": "light"
          },
          "output_type": "display_data"
        },
        {
          "data": {
            "image/png": "[encoded data removed]",
            "text/plain": [
              "<Figure size 432x288 with 2 Axes>"
            ]
          },
          "metadata": {
            "needs_background": "light"
          },
          "output_type": "display_data"
        }
      ],
      "source": [
        "import seaborn as sns\n",
        "import matplotlib.pyplot as plt\n",
        "\n",
        "clases = ['Team 1', 'Team 2']\n",
        "\n",
        "for i, matrix in enumerate(matriz_confusion):\n",
        "  labels = [f'True Neg\\n{matrix[0][0]}',f'False Pos\\n{matrix[0][1]}',f'False Neg\\n{matrix[1][0]}',f'True Pos\\n{matrix[1][1]}']\n",
        "\n",
        "  labels = np.asarray(labels).reshape(2,2)\n",
        "\n",
        "  ax = sns.heatmap(matriz_confusion[1], annot=labels, fmt='', cmap='rocket_r')\n",
        "\n",
        "  ax.set_title(f'Matriz de Confusión para {clases[i]}\\n\\n');\n",
        "  ax.set_xlabel('\\nPredicted Values')\n",
        "  ax.set_ylabel('Actual Values ');\n",
        "\n",
        "  ## Ticket labels - List must be in alphabetical order\n",
        "  ax.xaxis.set_ticklabels(['False','True'])\n",
        "  ax.yaxis.set_ticklabels(['False','True'])\n",
        "\n",
        "  ## Display the visualization of the Confusion Matrix.\n",
        "  plt.show()"
      ]
    },
    {
      "cell_type": "code",
      "execution_count": 89,
      "metadata": {
        "id": "3cpwb0oY6sHG"
      },
      "outputs": [],
      "source": [
        "def activation(x):\n",
        "  return ((1/(1+np.e**(-x))) , (x * (1-x)))\n",
        "\n",
        "\n",
        "class Capa():\n",
        "  def __init__(self, n_conexiones: int, n_neuronas: int, activation):\n",
        "    self.activation = activation\n",
        "    self.W = np.random.rand(n_conexiones, n_neuronas) * 2 - 1\n",
        "\n",
        "\n",
        "def crear_red(topologia: list, activation):\n",
        "  red = []\n",
        " \n",
        "  for l, capa in enumerate(topologia[:-1]):\n",
        "    red.append( Capa(topologia[l], topologia[l+1], activation) )\n",
        "  return red\n",
        "\n",
        "\n",
        "def forward(red, X):\n",
        "  out = [(None, X)]\n",
        "  for l, capa in enumerate(red):\n",
        "    z = out[-1][1] @ red[l].W \n",
        "    a = red[l].activation(z)[0] \n",
        "    out.append((z, a)) \n",
        "  return out\n"
      ]
    },
    {
      "cell_type": "code",
      "execution_count": 90,
      "metadata": {
        "colab": {
          "base_uri": "https://localhost:8080/"
        },
        "id": "ZSVT3gS6565N",
        "outputId": "83dc0423-ce3f-47ac-a37e-c588d4080a22"
      },
      "outputs": [],
      "source": [
        "p = 16\n",
        "topologia = [p, 20, 30, 20, 12, 2]\n",
        "red = crear_red(topologia, activation)\n",
        "prediccion = forward(red, Z_train)\n"
      ]
    },
    {
      "cell_type": "code",
      "execution_count": 91,
      "metadata": {
        "id": "t4E_TYW576Y6"
      },
      "outputs": [],
      "source": [
        "def coste(Ypred, Yesp):\n",
        "  return (np.mean((Ypred - Yesp) ** 2), (Ypred - Yesp))"
      ]
    },
    {
      "cell_type": "code",
      "execution_count": 92,
      "metadata": {
        "id": "QYA85ksM7y_w"
      },
      "outputs": [],
      "source": [
        "def train(red, X, Y, coste, learning_rate=0.05):\n",
        "\n",
        "  out = forward(red, X)\n",
        "\n",
        "  delta = []\n",
        "\n",
        "  for i in reversed(range(0,len(red))):\n",
        "    z = out[i+1][0]\n",
        "    a = out[i+1][1]\n",
        "    if i == len(red)-1:\n",
        "\n",
        "        delta.insert(0, coste(a,Y)[1] * red[i].activation(a)[1] )\n",
        "    else:\n",
        "       \n",
        "        delta.insert(0, delta[0] @ aux_W.T * red[i].activation(a)[1]) \n",
        "    aux_W = red[i].W\n",
        "\n",
        "    red[i].W = red[i].W - out[i][1].T @ delta[0] * learning_rate \n",
        "\n",
        "  return out[-1][1]"
      ]
    },
    {
      "cell_type": "code",
      "execution_count": 93,
      "metadata": {
        "colab": {
          "base_uri": "https://localhost:8080/",
          "height": 1000
        },
        "id": "U1oZBGCi8HQ9",
        "outputId": "7706c3c9-dd3f-46ca-ec4d-4118193db41e"
      },
      "outputs": [
        {
          "name": "stderr",
          "output_type": "stream",
          "text": [
            "c:\\Python39\\lib\\site-packages\\numpy\\core\\fromnumeric.py:3472: FutureWarning: In a future version, DataFrame.mean(axis=None) will return a scalar mean over the entire DataFrame. To retain the old behavior, use 'frame.mean(axis=0)' or just 'frame.mean()'\n",
            "  return mean(axis=axis, dtype=dtype, out=out, **kwargs)\n"
          ]
        },
        {
          "name": "stdout",
          "output_type": "stream",
          "text": [
            "Coste iteración 0: 1    0.290985\n",
            "2    0.286181\n",
            "dtype: float64\n",
            "Coste iteración 25: 1    0.518010\n",
            "2    0.518009\n",
            "dtype: float64\n",
            "Coste iteración 50: 1    0.518003\n",
            "2    0.518001\n",
            "dtype: float64\n",
            "Coste iteración 75: 1    0.517985\n",
            "2    0.517983\n",
            "dtype: float64\n",
            "Coste iteración 100: 1    0.517882\n",
            "2    0.517888\n",
            "dtype: float64\n",
            "Coste iteración 125: 1    0.516240\n",
            "2    0.517796\n",
            "dtype: float64\n",
            "Coste iteración 150: 1    0.475094\n",
            "2    0.518018\n",
            "dtype: float64\n",
            "Coste iteración 175: 1    0.481842\n",
            "2    0.518018\n",
            "dtype: float64\n",
            "Coste iteración 200: 1    0.481775\n",
            "2    0.518018\n",
            "dtype: float64\n",
            "Coste iteración 225: 1    0.481556\n",
            "2    0.518017\n",
            "dtype: float64\n",
            "Coste iteración 250: 1    0.461638\n",
            "2    0.518018\n",
            "dtype: float64\n",
            "Coste iteración 275: 1    0.035779\n",
            "2    0.518001\n",
            "dtype: float64\n",
            "Coste iteración 300: 1    0.031843\n",
            "2    0.518001\n",
            "dtype: float64\n",
            "Coste iteración 325: 1    0.031014\n",
            "2    0.518002\n",
            "dtype: float64\n",
            "Coste iteración 350: 1    0.028419\n",
            "2    0.518000\n",
            "dtype: float64\n",
            "Coste iteración 375: 1    0.026529\n",
            "2    0.517997\n",
            "dtype: float64\n",
            "Coste iteración 400: 1    0.022491\n",
            "2    0.517995\n",
            "dtype: float64\n",
            "Coste iteración 425: 1    0.02098\n",
            "2    0.51799\n",
            "dtype: float64\n",
            "Coste iteración 450: 1    0.020099\n",
            "2    0.517982\n",
            "dtype: float64\n",
            "Coste iteración 475: 1    0.019228\n",
            "2    0.517973\n",
            "dtype: float64\n",
            "Coste iteración 500: 1    0.019120\n",
            "2    0.517956\n",
            "dtype: float64\n",
            "Coste iteración 525: 1    0.016839\n",
            "2    0.517928\n",
            "dtype: float64\n",
            "Coste iteración 550: 1    0.016513\n",
            "2    0.517866\n",
            "dtype: float64\n",
            "Coste iteración 575: 1    0.016219\n",
            "2    0.517665\n",
            "dtype: float64\n",
            "Coste iteración 600: 1    0.019819\n",
            "2    0.398908\n",
            "dtype: float64\n",
            "Coste iteración 625: 1    0.019429\n",
            "2    0.019556\n",
            "dtype: float64\n",
            "Coste iteración 650: 1    0.017015\n",
            "2    0.016221\n",
            "dtype: float64\n",
            "Coste iteración 675: 1    0.013685\n",
            "2    0.013555\n",
            "dtype: float64\n",
            "Coste iteración 700: 1    0.013369\n",
            "2    0.013339\n",
            "dtype: float64\n",
            "Coste iteración 725: 1    0.013350\n",
            "2    0.013331\n",
            "dtype: float64\n",
            "Coste iteración 750: 1    0.013340\n",
            "2    0.013325\n",
            "dtype: float64\n",
            "Coste iteración 775: 1    0.013331\n",
            "2    0.013316\n",
            "dtype: float64\n",
            "Coste iteración 800: 1    0.012909\n",
            "2    0.012790\n",
            "dtype: float64\n",
            "Coste iteración 825: 1    0.012655\n",
            "2    0.012648\n",
            "dtype: float64\n",
            "Coste iteración 850: 1    0.012650\n",
            "2    0.012645\n",
            "dtype: float64\n",
            "Coste iteración 875: 1    0.012646\n",
            "2    0.012642\n",
            "dtype: float64\n",
            "Coste iteración 900: 1    0.012643\n",
            "2    0.012639\n",
            "dtype: float64\n",
            "Coste iteración 925: 1    0.012639\n",
            "2    0.012636\n",
            "dtype: float64\n",
            "Coste iteración 950: 1    0.012634\n",
            "2    0.012630\n",
            "dtype: float64\n",
            "Coste iteración 975: 1    0.012624\n",
            "2    0.012618\n",
            "dtype: float64\n",
            "Coste iteración 1000: 1    0.012004\n",
            "2    0.012050\n",
            "dtype: float64\n",
            "Coste iteración 1025: 1    0.011955\n",
            "2    0.011951\n",
            "dtype: float64\n",
            "Coste iteración 1050: 1    0.011926\n",
            "2    0.011915\n",
            "dtype: float64\n",
            "Coste iteración 1075: 1    0.014963\n",
            "2    0.014848\n",
            "dtype: float64\n",
            "Coste iteración 1100: 1    0.011964\n",
            "2    0.011939\n",
            "dtype: float64\n",
            "Coste iteración 1125: 1    0.011881\n",
            "2    0.011846\n",
            "dtype: float64\n",
            "Coste iteración 1150: 1    0.011320\n",
            "2    0.011311\n",
            "dtype: float64\n",
            "Coste iteración 1175: 1    0.011281\n",
            "2    0.011274\n",
            "dtype: float64\n",
            "Coste iteración 1200: 1    0.011229\n",
            "2    0.011217\n",
            "dtype: float64\n",
            "Coste iteración 1225: 1    0.010571\n",
            "2    0.010566\n",
            "dtype: float64\n",
            "Coste iteración 1250: 1    0.010447\n",
            "2    0.010410\n",
            "dtype: float64\n",
            "Coste iteración 1275: 1    0.017369\n",
            "2    0.017708\n",
            "dtype: float64\n",
            "Coste iteración 1300: 1    0.009330\n",
            "2    0.009288\n",
            "dtype: float64\n",
            "Coste iteración 1325: 1    0.008741\n",
            "2    0.008940\n",
            "dtype: float64\n",
            "Coste iteración 1350: 1    0.007906\n",
            "2    0.007893\n",
            "dtype: float64\n",
            "Coste iteración 1375: 1    0.007887\n",
            "2    0.007878\n",
            "dtype: float64\n",
            "Coste iteración 1400: 1    0.007876\n",
            "2    0.007870\n",
            "dtype: float64\n",
            "Coste iteración 1425: 1    0.007867\n",
            "2    0.007863\n",
            "dtype: float64\n",
            "Coste iteración 1450: 1    0.007856\n",
            "2    0.007852\n",
            "dtype: float64\n",
            "Coste iteración 1475: 1    0.007834\n",
            "2    0.007830\n",
            "dtype: float64\n"
          ]
        },
        {
          "data": {
            "image/png": "[encoded data removed]",
            "text/plain": [
              "<Figure size 432x288 with 1 Axes>"
            ]
          },
          "metadata": {
            "needs_background": "light"
          },
          "output_type": "display_data"
        }
      ],
      "source": [
        "import time \n",
        "from IPython.display import clear_output\n",
        "loss = []\n",
        "\n",
        "for i in range(1500):\n",
        "\n",
        "  pY = train(red, Z_train.to_numpy(), Yz_train.to_numpy(), coste, learning_rate=0.05)\n",
        "  if i % 25 == 0:\n",
        "    costo = coste(pY, Yz_train)[0]\n",
        "    print(f'Coste iteración {i}: {costo}')\n",
        "    loss.append(costo)\n",
        "    \n",
        "\n",
        "    \n",
        "plt.plot(range(len(loss)), loss)\n",
        "plt.show()\n",
        "\n"
      ]
    },
    {
      "cell_type": "code",
      "execution_count": 94,
      "metadata": {
        "colab": {
          "base_uri": "https://localhost:8080/"
        },
        "id": "qBlAYQgPNznI",
        "outputId": "9f6301a3-9a06-4fb8-a68d-9bf6812bd0ca"
      },
      "outputs": [
        {
          "name": "stdout",
          "output_type": "stream",
          "text": [
            "              0         1\n",
            "4006   0.998152  0.000086\n",
            "33837  0.006208  0.994459\n",
            "30355  0.998129  0.000088\n",
            "41270  0.998139  0.000087\n",
            "14973  0.015732  0.985486\n",
            "...         ...       ...\n",
            "12420  0.010153  0.990766\n",
            "28509  0.998150  0.000087\n",
            "43399  0.998153  0.000086\n",
            "32557  0.006175  0.994488\n",
            "14062  0.998097  0.000091\n",
            "\n",
            "[618 rows x 2 columns]\n",
            "0.9676375404530745\n",
            "              precision    recall  f1-score   support\n",
            "\n",
            "           0       0.95      0.99      0.97       330\n",
            "           1       0.99      0.94      0.96       288\n",
            "\n",
            "   micro avg       0.97      0.97      0.97       618\n",
            "   macro avg       0.97      0.97      0.97       618\n",
            "weighted avg       0.97      0.97      0.97       618\n",
            " samples avg       0.97      0.97      0.97       618\n",
            "\n"
          ]
        }
      ],
      "source": [
        "prediccion = forward(red, Z_test)\n",
        "Yz_pred = prediccion[-1][1].to_numpy()\n",
        "print(prediccion[-1][1])\n",
        "Yz_exp = Yz_test.to_numpy()\n",
        "for i in range(len(Yz_pred)):\n",
        "  Yz_pred[i] = np.array([1 if Yz_pred[i][j] == np.max(Yz_pred[i]) else 0 for j in range(len(Yz_pred[i]))])\n",
        "  \n",
        "\n",
        "print(accuracy_score(Yz_exp, Yz_pred))\n",
        "print(classification_report(Yz_exp, Yz_pred))\n",
        "\n",
        "matriz_confusion = multilabel_confusion_matrix(Yz_exp, Yz_pred)\n"
      ]
    },
    {
      "cell_type": "code",
      "execution_count": 95,
      "metadata": {
        "colab": {
          "base_uri": "https://localhost:8080/",
          "height": 657
        },
        "id": "GKYUNxWQSxHq",
        "outputId": "cc153847-1467-4fb0-d7a1-234c2621eb9b"
      },
      "outputs": [
        {
          "data": {
            "image/png": "[encoded data removed]",
            "text/plain": [
              "<Figure size 432x288 with 2 Axes>"
            ]
          },
          "metadata": {
            "needs_background": "light"
          },
          "output_type": "display_data"
        },
        {
          "data": {
            "image/png": "[encoded data removed]",
            "text/plain": [
              "<Figure size 432x288 with 2 Axes>"
            ]
          },
          "metadata": {
            "needs_background": "light"
          },
          "output_type": "display_data"
        }
      ],
      "source": [
        "for i, matrix in enumerate(matriz_confusion):\n",
        "  labels = [f'True Neg\\n{matrix[0][0]}',f'False Pos\\n{matrix[0][1]}',f'False Neg\\n{matrix[1][0]}',f'True Pos\\n{matrix[1][1]}']\n",
        "\n",
        "  labels = np.asarray(labels).reshape(2,2)\n",
        "\n",
        "  ax = sns.heatmap(matriz_confusion[1], annot=labels, fmt='', cmap='rocket_r')\n",
        "\n",
        "  ax.set_title(f'Matriz de Confusión para {clases[i]}\\n\\n');\n",
        "  ax.set_xlabel('\\nPredicted Values')\n",
        "  ax.set_ylabel('Actual Values ');\n",
        "\n",
        "  ## Ticket labels - List must be in alphabetical order\n",
        "  ax.xaxis.set_ticklabels(['False','True'])\n",
        "  ax.yaxis.set_ticklabels(['False','True'])\n",
        "\n",
        "  ## Display the visualization of the Confusion Matrix.\n",
        "  plt.show()"
      ]
    },
    {
      "cell_type": "code",
      "execution_count": 96,
      "metadata": {
        "colab": {
          "base_uri": "https://localhost:8080/"
        },
        "id": "3jsPdr6vw5z0",
        "outputId": "b1b965cc-57ce-4e05-c470-3ad1f36a9362"
      },
      "outputs": [
        {
          "name": "stdout",
          "output_type": "stream",
          "text": [
            "Precision con el set de entrenamiento:  0.9895977808599168\n",
            "Precision con el set de pruebas:  0.9563106796116505\n"
          ]
        }
      ],
      "source": [
        "from sklearn.neural_network import MLPClassifier\n",
        "#[p, 20, 30, 20, 12, 2]\n",
        "mlp = MLPClassifier(solver='lbfgs', alpha=0.05, random_state=0, activation='relu', max_iter=10000, hidden_layer_sizes=[20, 30, 20, 12]) #alpha default 0.001, max_iter=200\n",
        "mlp.fit(Z_train, Yz_train)\n",
        "\n",
        "print(\"Precision con el set de entrenamiento: \", mlp.score(Z_train, Yz_train))\n",
        "print(\"Precision con el set de pruebas: \", mlp.score(Z_test,Yz_test))"
      ]
    }
  ],
  "metadata": {
    "colab": {
      "collapsed_sections": [],
      "name": "desafio3-borbotones.ipynb",
      "provenance": []
    },
    "interpreter": {
      "hash": "81794d4967e6c3204c66dcd87b604927b115b27c00565d3d43f05ba2f3a2cb0d"
    },
    "kernelspec": {
      "display_name": "Python 3.9.6 64-bit",
      "language": "python",
      "name": "python3"
    },
    "language_info": {
      "codemirror_mode": {
        "name": "ipython",
        "version": 3
      },
      "file_extension": ".py",
      "mimetype": "text/x-python",
      "name": "python",
      "nbconvert_exporter": "python",
      "pygments_lexer": "ipython3",
      "version": "3.9.6"
    }
  },
  "nbformat": 4,
  "nbformat_minor": 0
}
